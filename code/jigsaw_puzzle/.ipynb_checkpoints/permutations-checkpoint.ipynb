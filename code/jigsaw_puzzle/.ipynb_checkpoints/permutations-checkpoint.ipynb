{
 "cells": [
  {
   "cell_type": "code",
   "execution_count": 4,
   "id": "bc6a4221",
   "metadata": {},
   "outputs": [],
   "source": [
    "from itertools import permutations\n",
    "from scipy.spatial import distance\n",
    "from scipy.spatial.distance import cdist\n",
    "import numpy as np\n",
    "\n",
    "from tqdm import tqdm\n",
    "import math"
   ]
  },
  {
   "cell_type": "markdown",
   "id": "d6ee21f2",
   "metadata": {},
   "source": [
    "## Generation of the Hamming Distance permutation set"
   ]
  },
  {
   "cell_type": "code",
   "execution_count": 11,
   "id": "edc1a35e",
   "metadata": {},
   "outputs": [
    {
     "name": "stderr",
     "output_type": "stream",
     "text": [
      "100%|██████████████████████████████████████████████████████████████████████████████████| 30/30 [00:01<00:00, 15.59it/s]\n"
     ]
    }
   ],
   "source": [
    "item = [i for i in range(1,10)]\n",
    "permutate_items = np.array(list(permutations(item, 9)))\n",
    "max_hamming = True\n",
    "\n",
    "N = 30 # permutation 개수\n",
    "j = np.random.choice(len(permutate_items), 1, replace=False)\n",
    "# p = np.array(permutate_items[j])#.reshape([1, -1]))\n",
    "\n",
    "for i in tqdm(range(1, N+1)) :\n",
    "    if i == 1 :\n",
    "        p = np.array(permutate_items[j])\n",
    "    else : \n",
    "        hat_p = np.array(permutate_items[j]).reshape([1, -1])\n",
    "        p = np.concatenate([p, hat_p], axis=0)\n",
    "        \n",
    "    permutate_items = np.delete(permutate_items, j, axis=0)\n",
    "    d = distance.cdist(p, permutate_items, metric='hamming').mean(axis=0)\n",
    "#     print(d)\n",
    "    if max_hamming == True :\n",
    "        j = np.argmax(d)\n",
    "    else : \n",
    "        j = np.argmin(d)\n",
    "np.save(f'permutation_{N}_sets.npy', p)"
   ]
  },
  {
   "cell_type": "code",
   "execution_count": 6,
   "id": "a40929bb",
   "metadata": {
    "scrolled": true
   },
   "outputs": [
    {
     "data": {
      "text/plain": [
       "(30, 9)"
      ]
     },
     "metadata": {},
     "output_type": "display_data"
    },
    {
     "data": {
      "text/plain": [
       "array([[1, 3, 5, 8, 7, 9, 6, 4, 2],\n",
       "       [2, 1, 3, 4, 5, 6, 7, 8, 9],\n",
       "       [3, 2, 1, 5, 4, 7, 8, 9, 6],\n",
       "       [4, 5, 2, 1, 3, 8, 9, 6, 7],\n",
       "       [5, 4, 6, 2, 9, 1, 3, 7, 8],\n",
       "       [6, 7, 4, 9, 8, 2, 1, 3, 5],\n",
       "       [7, 8, 9, 3, 6, 4, 2, 5, 1],\n",
       "       [8, 9, 7, 6, 1, 3, 5, 2, 4],\n",
       "       [9, 6, 8, 7, 2, 5, 4, 1, 3],\n",
       "       [1, 2, 3, 6, 7, 4, 9, 8, 5],\n",
       "       [2, 1, 4, 7, 3, 6, 8, 5, 9],\n",
       "       [3, 4, 1, 9, 6, 5, 7, 2, 8],\n",
       "       [4, 3, 7, 5, 8, 9, 2, 1, 6],\n",
       "       [5, 6, 2, 3, 1, 8, 4, 9, 7],\n",
       "       [6, 5, 9, 8, 2, 1, 3, 7, 4],\n",
       "       [7, 9, 8, 1, 5, 2, 6, 4, 3],\n",
       "       [8, 7, 5, 4, 9, 3, 1, 6, 2],\n",
       "       [9, 8, 6, 2, 4, 7, 5, 3, 1],\n",
       "       [1, 2, 4, 5, 6, 3, 8, 9, 7],\n",
       "       [2, 1, 5, 3, 8, 9, 6, 7, 4],\n",
       "       [3, 4, 7, 1, 2, 8, 9, 6, 5],\n",
       "       [4, 3, 8, 9, 1, 6, 7, 5, 2],\n",
       "       [5, 6, 3, 7, 9, 4, 1, 2, 8],\n",
       "       [6, 9, 1, 4, 7, 5, 2, 8, 3],\n",
       "       [7, 5, 6, 8, 3, 2, 4, 1, 9],\n",
       "       [8, 7, 9, 2, 4, 1, 5, 3, 6],\n",
       "       [9, 8, 2, 6, 5, 7, 3, 4, 1],\n",
       "       [1, 2, 5, 3, 8, 6, 4, 7, 9],\n",
       "       [2, 1, 7, 4, 6, 5, 9, 8, 3],\n",
       "       [3, 4, 8, 6, 2, 9, 1, 5, 7]])"
      ]
     },
     "metadata": {},
     "output_type": "display_data"
    }
   ],
   "source": [
    "display(p.shape)\n",
    "display(p)"
   ]
  },
  {
   "cell_type": "code",
   "execution_count": 7,
   "id": "9fe825c6",
   "metadata": {},
   "outputs": [
    {
     "data": {
      "text/plain": [
       "(30, 9)"
      ]
     },
     "execution_count": 7,
     "metadata": {},
     "output_type": "execute_result"
    }
   ],
   "source": [
    "# 중복이 없음을 확인\n",
    "np.unique(p,axis=1).shape"
   ]
  },
  {
   "cell_type": "markdown",
   "id": "fdac1563",
   "metadata": {},
   "source": [
    "#### minimum hamming distance"
   ]
  },
  {
   "cell_type": "code",
   "execution_count": 8,
   "id": "f8a7321d",
   "metadata": {},
   "outputs": [
    {
     "name": "stderr",
     "output_type": "stream",
     "text": [
      "100%|██████████████████████████████████████████████████████████████████████████████████| 30/30 [00:01<00:00, 15.29it/s]\n"
     ]
    }
   ],
   "source": [
    "from itertools import permutations\n",
    "from scipy.spatial import distance\n",
    "\n",
    "item = [i for i in range(1,10)]\n",
    "permutate_items = np.array(list(permutations(item, 9)))\n",
    "max_hamming = False\n",
    "\n",
    "N = 30 # permutation 개수\n",
    "j = np.random.choice(len(permutate_items), 1, replace=False)\n",
    "# p = np.array(permutate_items[j])#.reshape([1, -1]))\n",
    "\n",
    "for i in tqdm(range(1, N+1)) :\n",
    "    if i == 1 :\n",
    "        p = np.array(permutate_items[j])\n",
    "    else : \n",
    "        hat_p = np.array(permutate_items[j]).reshape([1, -1])\n",
    "        p = np.concatenate([p, hat_p], axis=0)\n",
    "        \n",
    "    permutate_items = np.delete(permutate_items, j, axis=0)\n",
    "    d = distance.cdist(p, permutate_items, metric='hamming').mean(axis=0)\n",
    "#     print(d)\n",
    "    if max_hamming == True :\n",
    "        j = np.argmax(d)\n",
    "    else : \n",
    "        j = np.argmin(d)\n",
    "# np.save(f'permutation_{N}_sets.npy', p)"
   ]
  },
  {
   "cell_type": "code",
   "execution_count": 9,
   "id": "ced26e4d",
   "metadata": {},
   "outputs": [
    {
     "data": {
      "text/plain": [
       "(30, 9)"
      ]
     },
     "metadata": {},
     "output_type": "display_data"
    },
    {
     "data": {
      "text/plain": [
       "array([[2, 6, 1, 7, 9, 3, 8, 4, 5],\n",
       "       [1, 6, 2, 7, 9, 3, 8, 4, 5],\n",
       "       [1, 2, 6, 7, 9, 3, 8, 4, 5],\n",
       "       [2, 1, 6, 7, 9, 3, 8, 4, 5],\n",
       "       [6, 1, 2, 7, 9, 3, 8, 4, 5],\n",
       "       [6, 2, 1, 7, 9, 3, 8, 4, 5],\n",
       "       [1, 2, 3, 7, 9, 6, 8, 4, 5],\n",
       "       [2, 1, 3, 7, 9, 6, 8, 4, 5],\n",
       "       [3, 2, 1, 7, 9, 6, 8, 4, 5],\n",
       "       [2, 3, 1, 7, 9, 6, 8, 4, 5],\n",
       "       [1, 3, 2, 7, 9, 6, 8, 4, 5],\n",
       "       [3, 1, 2, 7, 9, 6, 8, 4, 5],\n",
       "       [2, 3, 6, 7, 9, 1, 8, 4, 5],\n",
       "       [1, 3, 6, 7, 9, 2, 8, 4, 5],\n",
       "       [3, 1, 6, 7, 9, 2, 8, 4, 5],\n",
       "       [3, 2, 6, 7, 9, 1, 8, 4, 5],\n",
       "       [3, 6, 1, 7, 9, 2, 8, 4, 5],\n",
       "       [3, 6, 2, 7, 9, 1, 8, 4, 5],\n",
       "       [1, 6, 3, 7, 9, 2, 8, 4, 5],\n",
       "       [2, 6, 3, 7, 9, 1, 8, 4, 5],\n",
       "       [6, 1, 3, 7, 9, 2, 8, 4, 5],\n",
       "       [6, 2, 3, 7, 9, 1, 8, 4, 5],\n",
       "       [6, 3, 1, 7, 9, 2, 8, 4, 5],\n",
       "       [6, 3, 2, 7, 9, 1, 8, 4, 5],\n",
       "       [1, 2, 4, 7, 9, 3, 8, 6, 5],\n",
       "       [1, 4, 2, 7, 9, 3, 8, 6, 5],\n",
       "       [1, 3, 2, 7, 9, 4, 8, 6, 5],\n",
       "       [1, 3, 4, 7, 9, 2, 8, 6, 5],\n",
       "       [1, 4, 3, 7, 9, 2, 8, 6, 5],\n",
       "       [1, 2, 3, 7, 9, 4, 8, 6, 5]])"
      ]
     },
     "metadata": {},
     "output_type": "display_data"
    }
   ],
   "source": [
    "display(p.shape)\n",
    "display(p)"
   ]
  },
  {
   "cell_type": "code",
   "execution_count": 10,
   "id": "f65ffb48",
   "metadata": {},
   "outputs": [
    {
     "data": {
      "text/plain": [
       "(30, 9)"
      ]
     },
     "execution_count": 10,
     "metadata": {},
     "output_type": "execute_result"
    }
   ],
   "source": [
    "# 중복이 없음을 확인\n",
    "np.unique(p,axis=0).shape"
   ]
  },
  {
   "cell_type": "code",
   "execution_count": null,
   "id": "8b6c1408",
   "metadata": {},
   "outputs": [],
   "source": []
  }
 ],
 "metadata": {
  "kernelspec": {
   "display_name": "Python 3 (ipykernel)",
   "language": "python",
   "name": "python3"
  },
  "language_info": {
   "codemirror_mode": {
    "name": "ipython",
    "version": 3
   },
   "file_extension": ".py",
   "mimetype": "text/x-python",
   "name": "python",
   "nbconvert_exporter": "python",
   "pygments_lexer": "ipython3",
   "version": "3.8.13"
  }
 },
 "nbformat": 4,
 "nbformat_minor": 5
}
