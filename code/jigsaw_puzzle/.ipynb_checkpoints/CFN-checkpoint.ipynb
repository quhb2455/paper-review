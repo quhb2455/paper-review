{
 "cells": [
  {
   "cell_type": "code",
   "execution_count": 2,
   "id": "2c91c87f",
   "metadata": {},
   "outputs": [],
   "source": [
    "import torch\n",
    "from torch import nn\n",
    "import numpy as np\n",
    "import cv2"
   ]
  },
  {
   "cell_type": "code",
   "execution_count": 5,
   "id": "60dd2c36",
   "metadata": {},
   "outputs": [],
   "source": [
    "class AlexNet(nn.Module) :\n",
    "    def __init__(self, \n",
    "                 first_in=3, \n",
    "                 first_stride=4, \n",
    "                 dropout_rate=0.5, \n",
    "                 in_feature=256*6*6,\n",
    "                 out_feature=4608,\n",
    "                 num_classes=1000\n",
    "                ) :\n",
    "        super(AlexNet, self).__init__()\n",
    "        self.conv_1 = nn.Sequential(\n",
    "            nn.Conv2d(in_channels=first_in, \n",
    "                      out_channels=96, \n",
    "                      kernel_size=11, \n",
    "                      padding=2, \n",
    "                      stride=first_stride),\n",
    "            nn.ReLU(),\n",
    "            nn.LocalResponseNorm(size=5, \n",
    "                                 k=2,    \n",
    "                                 alpha=0.0001, \n",
    "                                 beta=0.75),\n",
    "            nn.MaxPool2d(kernel_size=3, \n",
    "                        stride=2),\n",
    "        )\n",
    "        \n",
    "        self.conv_2 = nn.Sequential(\n",
    "            nn.Conv2d(in_channels=96, \n",
    "                     out_channels=256,\n",
    "                      padding=2,\n",
    "                      kernel_size=5),\n",
    "            nn.ReLU(),\n",
    "            nn.LocalResponseNorm(size=5, \n",
    "                                 k=2,    \n",
    "                                 alpha=0.0001, \n",
    "                                 beta=0.75),\n",
    "            nn.MaxPool2d(kernel_size=3, \n",
    "                        stride=2),\n",
    "        )\n",
    "        \n",
    "        self.conv_3 = nn.Sequential(\n",
    "            nn.Conv2d(in_channels=256, \n",
    "                     out_channels=384,\n",
    "                      padding=1,\n",
    "                      kernel_size=3),\n",
    "            nn.ReLU(),\n",
    "        )\n",
    "        \n",
    "        self.conv_4 = nn.Sequential(\n",
    "            nn.Conv2d(in_channels=384, \n",
    "                     out_channels=384,\n",
    "                      padding=1,\n",
    "                      kernel_size=3),\n",
    "            nn.ReLU(),\n",
    "        )\n",
    "        \n",
    "        self.conv_5 = nn.Sequential(\n",
    "            nn.Conv2d(in_channels=384, \n",
    "                     out_channels=256,\n",
    "                      padding=1,\n",
    "                      kernel_size=3,\n",
    "                     ),\n",
    "            nn.ReLU(),\n",
    "            nn.MaxPool2d(kernel_size=3, \n",
    "                         stride=2),\n",
    "        )\n",
    "                \n",
    "        self.conv_layers = nn.Sequential(\n",
    "            self.conv_1, \n",
    "            self.conv_2, \n",
    "            self.conv_3, \n",
    "            self.conv_4, \n",
    "            self.conv_5, \n",
    "        )\n",
    "        \n",
    "        self.fc_layers = nn.Sequential(\n",
    "            nn.Linear(in_feature, out_feature),\n",
    "            nn.ReLU(),\n",
    "            nn.Dropout(p=dropout_rate),\n",
    "            nn.Linear(out_feature, out_feature),\n",
    "            nn.ReLU(),\n",
    "            nn.Dropout(p=dropout_rate),\n",
    "            nn.Linear(out_feature, num_classes),\n",
    "        )\n",
    "\n",
    "        \n",
    "        for idx, layers in enumerate(self.conv_layers):\n",
    "            self.initialization(idx, layers)\n",
    "\n",
    "        self.initialization('fc', self.fc_layers)\n",
    "\n",
    "    def initialization(self, idx, layers) :\n",
    "        for layer in layers :\n",
    "            if 'weight' in dir(layer):\n",
    "                nn.init.normal_(layer.weight, mean=0, std=0.01)                \n",
    "                if idx in ['fc', 1, 3, 4] :\n",
    "                    nn.init.constant_(layer.bias.data, 1)\n",
    "                elif idx in [0, 2] :\n",
    "                    nn.init.constant_(layer.bias.data, 0)    \n",
    "                    \n",
    "    def forward(self, x) :\n",
    "        x = self.conv_layers(x)\n",
    "        # x = x.contiguous().view(-1) \n",
    "\n",
    "        x = x.flatten(1)\n",
    "\n",
    "        x = self.fc_layers(x)\n",
    "        return x\n",
    "    \n"
   ]
  },
  {
   "cell_type": "code",
   "execution_count": 6,
   "id": "4c349c2e",
   "metadata": {},
   "outputs": [
    {
     "name": "stdout",
     "output_type": "stream",
     "text": [
      "torch.Size([16, 256, 3, 3])\n",
      "torch.Size([16, 2304])\n"
     ]
    },
    {
     "name": "stderr",
     "output_type": "stream",
     "text": [
      "c:\\users\\quhb2\\anaconda3\\envs\\torch-1.9\\lib\\site-packages\\torch\\nn\\functional.py:718: UserWarning: Named tensors and all their associated APIs are an experimental feature and subject to change. Please do not use them for anything important until they are released as stable. (Triggered internally at  ..\\c10/core/TensorImpl.h:1156.)\n",
      "  return torch.max_pool2d(input, kernel_size, stride, padding, dilation, ceil_mode)\n"
     ]
    }
   ],
   "source": [
    "test_data = torch.randn(16, 27, 75, 75)\n",
    "model = AlexNet(27,2, in_feature=256*3*3)\n",
    "out = model(test_data)"
   ]
  },
  {
   "cell_type": "code",
   "execution_count": 8,
   "id": "2e7e18c6",
   "metadata": {},
   "outputs": [
    {
     "data": {
      "text/plain": [
       "Parameter containing:\n",
       "tensor([1., 1., 1.,  ..., 1., 1., 1.], requires_grad=True)"
      ]
     },
     "execution_count": 8,
     "metadata": {},
     "output_type": "execute_result"
    }
   ],
   "source": [
    "model.fc_layers[0].bias"
   ]
  },
  {
   "cell_type": "code",
   "execution_count": 9,
   "id": "1417b1e0",
   "metadata": {},
   "outputs": [],
   "source": [
    "class CFN(nn.Module) :\n",
    "    def __init__(self, \n",
    "                 in_channel=27, \n",
    "                 strd=2, \n",
    "                 in_feature=256*3*3, \n",
    "                 out_feature=4608, \n",
    "                 num_classes=69) :\n",
    "        super(CFN, self).__init__()\n",
    "        self.alexnet = AlexNet(first_in=in_channel, \n",
    "                               first_stride=strd, \n",
    "                               in_feature=in_feature, \n",
    "                               out_feature=out_feature\n",
    "                              )\n",
    "        # alexnet 논문에 나와있는 방법으로 초기화한 layer들을 가져옴\n",
    "        self.conv_layers = self.alexnet.conv_layers\n",
    "        self.fc6 = self.alexnet.fc_layers[0]\n",
    "        \n",
    "        # fc7, fc8, output 포함\n",
    "        self.classifier = nn.Sequential(\n",
    "            nn.Linear(out_feature, 4096), \n",
    "            nn.ReLU(),\n",
    "            nn.Linear(4096, 100), \n",
    "            nn.ReLU(),\n",
    "            nn.Linear(100, num_classes)\n",
    "        )\n",
    "        \n",
    "        self.alexnet.initialization('fc', self.classifier)\n",
    "        \n",
    "    def forward(self, x) :\n",
    "        x = self.conv_layers(x)\n",
    "        x = x.flatten(1)\n",
    "        x = self.fc6(x)\n",
    "        x = self.classifier(x)\n",
    "        return x"
   ]
  },
  {
   "cell_type": "code",
   "execution_count": 10,
   "id": "9bb9ad5d",
   "metadata": {},
   "outputs": [
    {
     "name": "stdout",
     "output_type": "stream",
     "text": [
      "torch.Size([16, 69])\n"
     ]
    }
   ],
   "source": [
    "test_data = torch.randn(16, 27, 75, 75)\n",
    "model = CFN()\n",
    "out = model(test_data)\n",
    "print(out.shape)"
   ]
  },
  {
   "cell_type": "code",
   "execution_count": 11,
   "id": "056f3b54",
   "metadata": {},
   "outputs": [
    {
     "data": {
      "text/plain": [
       "Parameter containing:\n",
       "tensor([1., 1., 1.,  ..., 1., 1., 1.], requires_grad=True)"
      ]
     },
     "execution_count": 11,
     "metadata": {},
     "output_type": "execute_result"
    }
   ],
   "source": [
    "model.classifier[0].bias"
   ]
  },
  {
   "cell_type": "code",
   "execution_count": null,
   "id": "977cb55d",
   "metadata": {},
   "outputs": [],
   "source": []
  }
 ],
 "metadata": {
  "kernelspec": {
   "display_name": "Python 3 (ipykernel)",
   "language": "python",
   "name": "python3"
  },
  "language_info": {
   "codemirror_mode": {
    "name": "ipython",
    "version": 3
   },
   "file_extension": ".py",
   "mimetype": "text/x-python",
   "name": "python",
   "nbconvert_exporter": "python",
   "pygments_lexer": "ipython3",
   "version": "3.8.13"
  }
 },
 "nbformat": 4,
 "nbformat_minor": 5
}
