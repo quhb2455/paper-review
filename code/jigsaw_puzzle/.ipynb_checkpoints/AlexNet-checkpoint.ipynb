{
 "cells": [
  {
   "cell_type": "code",
   "execution_count": 5,
   "id": "14e5df6c",
   "metadata": {},
   "outputs": [],
   "source": [
    "import torch\n",
    "from torch import nn\n",
    "import cv2\n",
    "import numpy as np"
   ]
  },
  {
   "cell_type": "code",
   "execution_count": 190,
   "id": "29a2433b",
   "metadata": {},
   "outputs": [],
   "source": [
    "class AlexNet(nn.Module) :\n",
    "    def __init__(self, \n",
    "                 first_in=3, \n",
    "                 first_stride=4, \n",
    "                 dropout_rate=0.5, \n",
    "                 in_feature=256*6*6,\n",
    "                 out_feature=4608,\n",
    "                 num_classes=1000\n",
    "                ) :\n",
    "        super(AlexNet, self).__init__()\n",
    "        self.conv_1 = nn.Sequential(\n",
    "            nn.Conv2d(in_channels=first_in, \n",
    "                      out_channels=96, \n",
    "                      kernel_size=11, \n",
    "                      padding=2, \n",
    "                      stride=first_stride),\n",
    "            nn.ReLU(),\n",
    "            nn.LocalResponseNorm(size=5, \n",
    "                                 k=2,    \n",
    "                                 alpha=0.0001, \n",
    "                                 beta=0.75),\n",
    "            nn.MaxPool2d(kernel_size=3, \n",
    "                        stride=2),\n",
    "        )\n",
    "        \n",
    "        self.conv_2 = nn.Sequential(\n",
    "            nn.Conv2d(in_channels=96, \n",
    "                     out_channels=256,\n",
    "                      padding=2,\n",
    "                      kernel_size=5),\n",
    "            nn.ReLU(),\n",
    "            nn.LocalResponseNorm(size=5, \n",
    "                                 k=2,    \n",
    "                                 alpha=0.0001, \n",
    "                                 beta=0.75),\n",
    "            nn.MaxPool2d(kernel_size=3, \n",
    "                        stride=2),\n",
    "        )\n",
    "        \n",
    "        self.conv_3 = nn.Sequential(\n",
    "            nn.Conv2d(in_channels=256, \n",
    "                     out_channels=384,\n",
    "                      padding=1,\n",
    "                      kernel_size=3),\n",
    "            nn.ReLU(),\n",
    "        )\n",
    "        \n",
    "        self.conv_4 = nn.Sequential(\n",
    "            nn.Conv2d(in_channels=384, \n",
    "                     out_channels=384,\n",
    "                      padding=1,\n",
    "                      kernel_size=3),\n",
    "            nn.ReLU(),\n",
    "        )\n",
    "        \n",
    "        self.conv_5 = nn.Sequential(\n",
    "            nn.Conv2d(in_channels=384, \n",
    "                     out_channels=256,\n",
    "                      padding=1,\n",
    "                      kernel_size=3,\n",
    "                     ),\n",
    "            nn.ReLU(),\n",
    "            nn.MaxPool2d(kernel_size=3, \n",
    "                         stride=2),\n",
    "        )\n",
    "                \n",
    "        self.conv_layers = nn.Sequential(\n",
    "            self.conv_1, \n",
    "            self.conv_2, \n",
    "            self.conv_3, \n",
    "            self.conv_4, \n",
    "            self.conv_5, \n",
    "        )\n",
    "        \n",
    "        self.fc_layers = nn.Sequential(\n",
    "            nn.Linear(in_feature, out_feature),\n",
    "            nn.ReLU(),\n",
    "            nn.Dropout(p=dropout_rate),\n",
    "            nn.Linear(out_feature, out_feature),\n",
    "            nn.ReLU(),\n",
    "            nn.Dropout(p=dropout_rate),\n",
    "            nn.Linear(out_feature, num_classes),\n",
    "        )\n",
    "\n",
    "        \n",
    "        for idx, layers in enumerate(self.conv_layers):\n",
    "            self.initialization(idx, layers)\n",
    "\n",
    "        self.initialization('fc', self.fc_layers)\n",
    "\n",
    "    def initialization(self, idx, layers) :\n",
    "        for layer in layers :\n",
    "            if 'weight' in dir(layer):\n",
    "                nn.init.normal_(layer.weight, mean=0, std=0.01)                \n",
    "                if idx in ['fc', 1, 3, 4] :\n",
    "                    nn.init.constant_(layer.bias.data, 1)\n",
    "                elif idx in [0, 2] :\n",
    "                    nn.init.constant_(layer.bias.data, 0)    \n",
    "                    \n",
    "    def forward(self, x) :\n",
    "        x = self.conv_layers(x)\n",
    "        # x = x.contiguous().view(-1) \n",
    "\n",
    "        x = x.flatten(1)\n",
    "\n",
    "        x = self.fc_layers(x)\n",
    "        return x\n",
    "    \n"
   ]
  },
  {
   "cell_type": "code",
   "execution_count": 189,
   "id": "baa11672",
   "metadata": {
    "scrolled": true
   },
   "outputs": [],
   "source": [
    "# model = AlexNet()\n",
    "# # for layers in model.conv_layers :\n",
    "# #     for layer in layers :\n",
    "# #         if 'weight' in dir(layer):\n",
    "# #             print(layer.bias)\n",
    "# for layer in model.fc_layers :\n",
    "#     if 'weight' in dir(layer):\n",
    "#         print(layer.bias)"
   ]
  },
  {
   "cell_type": "code",
   "execution_count": 191,
   "id": "64105122",
   "metadata": {},
   "outputs": [
    {
     "name": "stdout",
     "output_type": "stream",
     "text": [
      "torch.Size([1, 256, 6, 6])\n",
      "torch.Size([1, 9216])\n",
      "torch.Size([1, 1000])\n"
     ]
    }
   ],
   "source": [
    "img = cv2.imread('000002.jpg')\n",
    "img = cv2.resize(img, (224, 224))\n",
    "img = np.transpose(img, (2,0,1))\n",
    "img = np.expand_dims(img, 0)\n",
    "img = torch.FloatTensor(img)\n",
    "# print(img.shape)\n",
    "# img = img.contiguous().view(-1, 224*224*3)\n",
    "# print(img.shape)\n",
    "model = AlexNet()\n",
    "out = model(img)\n",
    "print(out.shape)"
   ]
  },
  {
   "cell_type": "code",
   "execution_count": 192,
   "id": "533664d8",
   "metadata": {},
   "outputs": [
    {
     "name": "stdout",
     "output_type": "stream",
     "text": [
      "torch.Size([16, 256, 3, 3])\n",
      "torch.Size([16, 2304])\n"
     ]
    }
   ],
   "source": [
    "test_data = torch.randn(16, 27, 75, 75)\n",
    "model = AlexNet(27,2,in_feature=256*3*3)\n",
    "out = model(test_data)"
   ]
  },
  {
   "cell_type": "code",
   "execution_count": null,
   "id": "d7fbcd48",
   "metadata": {},
   "outputs": [],
   "source": []
  }
 ],
 "metadata": {
  "kernelspec": {
   "display_name": "Python 3 (ipykernel)",
   "language": "python",
   "name": "python3"
  },
  "language_info": {
   "codemirror_mode": {
    "name": "ipython",
    "version": 3
   },
   "file_extension": ".py",
   "mimetype": "text/x-python",
   "name": "python",
   "nbconvert_exporter": "python",
   "pygments_lexer": "ipython3",
   "version": "3.8.13"
  }
 },
 "nbformat": 4,
 "nbformat_minor": 5
}
