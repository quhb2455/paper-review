{
 "cells": [
  {
   "cell_type": "code",
   "execution_count": 1,
   "id": "c56c08c0",
   "metadata": {},
   "outputs": [],
   "source": [
    "import torch\n",
    "from torch import nn\n",
    "from torch.utils.data import Dataset, DataLoader\n",
    "\n",
    "import numpy as np\n",
    "import albumentations as A\n",
    "import cv2\n",
    "from glob import glob\n",
    "from tqdm import tqdm"
   ]
  },
  {
   "cell_type": "code",
   "execution_count": 2,
   "id": "5479a77c",
   "metadata": {},
   "outputs": [],
   "source": [
    "class jigsaw_pipeline() :\n",
    "    def __init__(self, color_jitter=False) :\n",
    "        self.color_jitter = color_jitter\n",
    "    \n",
    "    def __call__(self, img) :\n",
    "        h, w, c = img.shape\n",
    "        \n",
    "        # step 1. resize width or height to 256 with preserve the original aspect ratio.\n",
    "        if h < w :\n",
    "            resized_w = int(w / h * 256)\n",
    "            img = cv2.resize(img, (256 , resized_w))\n",
    "\n",
    "        elif w <= h :\n",
    "            resized_h = int(h / w * 256)\n",
    "            img = cv2.resize(img, (resized_h, 256))\n",
    "        \n",
    "        # step 2. Random crop size 225 x 225\n",
    "        img = A.RandomCrop(225, 225)(image = img)['image']\n",
    "        \n",
    "        # step 3 and 4. split 3 x 3 grid of 75 x 75 pixels tiles and random crop 64 x 64\n",
    "        for i in range(3) :\n",
    "            for j in range(3) :\n",
    "                crop_img = img[i*75 : (i * 75) + 75, j*75 : (j * 75) + 75, :]\n",
    "                \n",
    "                if i == 0 and j == 0 :    \n",
    "                    tile_img = A.RandomCrop(64, 64)(image = crop_img)['image']\n",
    "                else : \n",
    "                    tile_img = np.concatenate((tile_img, A.RandomCrop(64, 64)(image = crop_img)['image']),axis=2)\n",
    "        \n",
    "        return tile_img"
   ]
  },
  {
   "cell_type": "code",
   "execution_count": 3,
   "id": "6ca5b534",
   "metadata": {},
   "outputs": [
    {
     "name": "stdout",
     "output_type": "stream",
     "text": [
      "(64, 64, 27)\n"
     ]
    }
   ],
   "source": [
    "img = cv2.imread('./data/1.jpg')\n",
    "pipeline = jigsaw_pipeline()\n",
    "\n",
    "tile = pipeline(img)\n",
    "print(tile.shape)"
   ]
  },
  {
   "cell_type": "markdown",
   "id": "08333ca0",
   "metadata": {},
   "source": [
    "### tile shuffle"
   ]
  },
  {
   "cell_type": "code",
   "execution_count": 4,
   "id": "02bd64df",
   "metadata": {},
   "outputs": [
    {
     "name": "stdout",
     "output_type": "stream",
     "text": [
      "(64, 64, 27)\n"
     ]
    }
   ],
   "source": [
    "permu = [6, 4, 9, 8, 1, 7, 3, 2, 5]\n",
    "\n",
    "shuffled_tile = np.zeros_like(tile)\n",
    "for idx, num in enumerate(permu, start=1) :\n",
    "    shuffled_tile[:, :, (idx-1)*3 : idx*3] = tile[:, :, (num-1) * 3 : num * 3]\n",
    "print(shuffled_tile.shape)"
   ]
  },
  {
   "cell_type": "markdown",
   "id": "19fdbb7f",
   "metadata": {},
   "source": [
    "## Generation of the Hamming Distance permutation set"
   ]
  },
  {
   "cell_type": "code",
   "execution_count": 12,
   "id": "b3ebb6e2",
   "metadata": {},
   "outputs": [
    {
     "name": "stderr",
     "output_type": "stream",
     "text": [
      "100%|█████████████████████████████████████████████████████████████████████████████████| 100/100 [01:34<00:00,  1.06it/s]\n"
     ]
    }
   ],
   "source": [
    "from itertools import permutations\n",
    "from scipy.spatial import distance\n",
    "\n",
    "item = [i for i in range(1,10)]\n",
    "permutate_items = np.array(list(permutations(item, 9)))\n",
    "max_hamming = True\n",
    "\n",
    "N = 100 # permutation 개수\n",
    "j = np.random.choice(len(permutate_items), 1, replace=False)\n",
    "# p = np.array(permutate_items[j])#.reshape([1, -1]))\n",
    "\n",
    "for i in tqdm(range(1, N+1)) :\n",
    "    if i == 1 :\n",
    "        p = np.array(permutate_items[j])\n",
    "    else : \n",
    "        hat_p = np.array(permutate_items[j]).reshape([1, -1])\n",
    "        p = np.concatenate([p, hat_p], axis=0)\n",
    "        \n",
    "    permutate_items = np.delete(permutate_items, j, axis=0)\n",
    "    d = distance.cdist(p, permutate_items, metric='hamming').mean(axis=0)\n",
    "#     print(d)\n",
    "    if max_hamming == True :\n",
    "        j = np.argmax(d)\n",
    "    else : \n",
    "        j = np.argmin(d)\n",
    "np.save(f'permutation_{N}_sets.npy', p)"
   ]
  },
  {
   "cell_type": "code",
   "execution_count": 13,
   "id": "dba14c64",
   "metadata": {
    "scrolled": true
   },
   "outputs": [
    {
     "data": {
      "text/plain": [
       "(100, 9)"
      ]
     },
     "metadata": {},
     "output_type": "display_data"
    },
    {
     "data": {
      "text/plain": [
       "array([[3, 5, 4, 1, 7, 8, 6, 2, 9],\n",
       "       [1, 2, 3, 4, 5, 6, 7, 9, 8],\n",
       "       [2, 1, 5, 3, 4, 7, 9, 8, 6],\n",
       "       [4, 3, 1, 2, 6, 9, 8, 5, 7],\n",
       "       [5, 4, 6, 8, 9, 1, 2, 7, 3],\n",
       "       [6, 7, 2, 9, 8, 3, 1, 4, 5],\n",
       "       [7, 8, 9, 5, 1, 2, 3, 6, 4],\n",
       "       [8, 9, 7, 6, 2, 4, 5, 3, 1],\n",
       "       [9, 6, 8, 7, 3, 5, 4, 1, 2],\n",
       "       [1, 2, 3, 4, 8, 5, 9, 6, 7],\n",
       "       [2, 1, 4, 6, 3, 8, 7, 9, 5],\n",
       "       [3, 4, 2, 7, 1, 6, 5, 8, 9],\n",
       "       [4, 3, 5, 9, 6, 2, 8, 7, 1],\n",
       "       [5, 6, 1, 8, 7, 9, 3, 4, 2],\n",
       "       [6, 5, 8, 1, 9, 7, 2, 3, 4],\n",
       "       [7, 8, 9, 5, 2, 3, 4, 1, 6],\n",
       "       [8, 9, 7, 2, 4, 1, 6, 5, 3],\n",
       "       [9, 7, 6, 3, 5, 4, 1, 2, 8],\n",
       "       [1, 2, 5, 6, 7, 3, 4, 8, 9],\n",
       "       [2, 1, 8, 5, 4, 6, 9, 3, 7],\n",
       "       [3, 4, 7, 1, 8, 5, 6, 9, 2],\n",
       "       [4, 5, 1, 7, 2, 9, 8, 6, 3],\n",
       "       [5, 6, 9, 4, 3, 8, 2, 7, 1],\n",
       "       [6, 3, 2, 8, 9, 1, 7, 4, 5],\n",
       "       [7, 8, 6, 9, 1, 2, 3, 5, 4],\n",
       "       [8, 9, 4, 3, 5, 7, 1, 2, 6],\n",
       "       [9, 7, 3, 2, 6, 4, 5, 1, 8],\n",
       "       [1, 2, 5, 7, 3, 6, 8, 9, 4],\n",
       "       [2, 1, 7, 4, 9, 5, 3, 8, 6],\n",
       "       [3, 4, 8, 1, 2, 9, 7, 6, 5],\n",
       "       [4, 5, 3, 9, 7, 8, 6, 1, 2],\n",
       "       [5, 6, 9, 2, 8, 1, 4, 3, 7],\n",
       "       [6, 3, 1, 5, 4, 7, 9, 2, 8],\n",
       "       [7, 8, 2, 3, 6, 4, 1, 5, 9],\n",
       "       [8, 9, 4, 6, 5, 3, 2, 7, 1],\n",
       "       [9, 7, 6, 8, 1, 2, 5, 4, 3],\n",
       "       [1, 2, 3, 5, 8, 4, 6, 7, 9],\n",
       "       [2, 1, 4, 6, 7, 5, 3, 9, 8],\n",
       "       [3, 4, 1, 2, 5, 9, 8, 6, 7],\n",
       "       [4, 3, 2, 1, 9, 8, 7, 5, 6],\n",
       "       [5, 6, 7, 3, 2, 1, 9, 8, 4],\n",
       "       [6, 8, 9, 4, 3, 7, 1, 2, 5],\n",
       "       [7, 5, 8, 9, 1, 6, 2, 4, 3],\n",
       "       [8, 9, 5, 7, 6, 2, 4, 3, 1],\n",
       "       [9, 7, 6, 8, 4, 3, 5, 1, 2],\n",
       "       [1, 2, 3, 6, 8, 5, 9, 7, 4],\n",
       "       [2, 1, 5, 3, 6, 9, 4, 8, 7],\n",
       "       [3, 4, 1, 2, 9, 7, 8, 6, 5],\n",
       "       [4, 3, 2, 1, 7, 8, 6, 5, 9],\n",
       "       [5, 6, 4, 7, 2, 1, 3, 9, 8],\n",
       "       [8, 5, 9, 4, 3, 6, 7, 2, 1],\n",
       "       [6, 7, 8, 9, 1, 3, 5, 4, 2],\n",
       "       [9, 8, 7, 5, 4, 2, 1, 3, 6],\n",
       "       [7, 9, 6, 8, 5, 4, 2, 1, 3],\n",
       "       [1, 2, 4, 6, 8, 5, 3, 7, 9],\n",
       "       [2, 1, 5, 3, 6, 7, 9, 8, 4],\n",
       "       [3, 4, 7, 2, 9, 8, 1, 6, 5],\n",
       "       [4, 3, 9, 5, 7, 1, 6, 2, 8],\n",
       "       [7, 5, 1, 9, 4, 6, 8, 3, 2],\n",
       "       [5, 8, 2, 1, 3, 4, 7, 9, 6],\n",
       "       [8, 9, 6, 7, 5, 3, 2, 4, 1],\n",
       "       [6, 7, 8, 4, 2, 9, 5, 1, 3],\n",
       "       [9, 6, 3, 8, 1, 2, 4, 5, 7],\n",
       "       [1, 5, 9, 4, 2, 6, 3, 7, 8],\n",
       "       [2, 6, 1, 3, 5, 4, 8, 9, 7],\n",
       "       [3, 2, 4, 7, 8, 5, 9, 6, 1],\n",
       "       [4, 1, 6, 8, 7, 9, 2, 5, 3],\n",
       "       [5, 4, 3, 2, 9, 7, 1, 8, 6],\n",
       "       [9, 7, 8, 5, 1, 3, 6, 4, 2],\n",
       "       [6, 3, 7, 1, 4, 8, 5, 2, 9],\n",
       "       [8, 9, 5, 6, 3, 2, 7, 1, 4],\n",
       "       [7, 8, 2, 9, 6, 1, 4, 3, 5],\n",
       "       [1, 2, 4, 9, 7, 6, 3, 5, 8],\n",
       "       [2, 1, 6, 8, 4, 9, 5, 3, 7],\n",
       "       [3, 4, 1, 2, 5, 7, 8, 9, 6],\n",
       "       [4, 3, 2, 1, 8, 5, 6, 7, 9],\n",
       "       [5, 6, 3, 7, 2, 4, 9, 8, 1],\n",
       "       [6, 7, 8, 5, 9, 3, 1, 4, 2],\n",
       "       [8, 9, 5, 4, 6, 1, 7, 2, 3],\n",
       "       [7, 8, 9, 3, 1, 2, 4, 6, 5],\n",
       "       [9, 5, 7, 6, 3, 8, 2, 1, 4],\n",
       "       [2, 1, 8, 5, 4, 3, 6, 7, 9],\n",
       "       [4, 3, 7, 1, 5, 8, 2, 9, 6],\n",
       "       [5, 4, 9, 3, 2, 7, 8, 6, 1],\n",
       "       [3, 9, 1, 2, 6, 4, 7, 8, 5],\n",
       "       [8, 6, 5, 7, 3, 1, 9, 2, 4],\n",
       "       [1, 2, 4, 6, 7, 9, 5, 3, 8],\n",
       "       [9, 7, 6, 8, 1, 2, 4, 5, 3],\n",
       "       [7, 5, 3, 9, 8, 6, 1, 4, 2],\n",
       "       [6, 8, 2, 4, 9, 5, 3, 1, 7],\n",
       "       [8, 4, 1, 3, 6, 7, 9, 2, 5],\n",
       "       [1, 2, 8, 5, 4, 3, 6, 7, 9],\n",
       "       [2, 5, 4, 6, 8, 9, 3, 1, 7],\n",
       "       [3, 9, 7, 2, 5, 8, 1, 6, 4],\n",
       "       [5, 1, 9, 4, 2, 6, 7, 8, 3],\n",
       "       [4, 3, 5, 1, 7, 2, 8, 9, 6],\n",
       "       [7, 8, 6, 9, 1, 4, 5, 3, 2],\n",
       "       [6, 7, 3, 8, 9, 5, 2, 4, 1],\n",
       "       [9, 6, 2, 7, 3, 1, 4, 5, 8],\n",
       "       [1, 7, 8, 9, 4, 6, 5, 3, 2]])"
      ]
     },
     "metadata": {},
     "output_type": "display_data"
    }
   ],
   "source": [
    "display(p.shape)\n",
    "display(p)"
   ]
  },
  {
   "cell_type": "code",
   "execution_count": 14,
   "id": "65c024d4",
   "metadata": {},
   "outputs": [
    {
     "data": {
      "text/plain": [
       "(100, 9)"
      ]
     },
     "execution_count": 14,
     "metadata": {},
     "output_type": "execute_result"
    }
   ],
   "source": [
    "# 중복이 없음을 확인\n",
    "np.unique(p,axis=1).shape"
   ]
  },
  {
   "cell_type": "markdown",
   "id": "3d40be68",
   "metadata": {},
   "source": [
    "#### minimum hamming distance"
   ]
  },
  {
   "cell_type": "code",
   "execution_count": 18,
   "id": "db43c834",
   "metadata": {},
   "outputs": [
    {
     "name": "stderr",
     "output_type": "stream",
     "text": [
      "100%|███████████████████████████████████████████████████████████████████████████████████| 30/30 [00:09<00:00,  3.05it/s]\n"
     ]
    }
   ],
   "source": [
    "from itertools import permutations\n",
    "from scipy.spatial import distance\n",
    "\n",
    "item = [i for i in range(1,10)]\n",
    "permutate_items = np.array(list(permutations(item, 9)))\n",
    "max_hamming = False\n",
    "\n",
    "N = 30 # permutation 개수\n",
    "j = np.random.choice(len(permutate_items), 1, replace=False)\n",
    "# p = np.array(permutate_items[j])#.reshape([1, -1]))\n",
    "\n",
    "for i in tqdm(range(1, N+1)) :\n",
    "    if i == 1 :\n",
    "        p = np.array(permutate_items[j])\n",
    "    else : \n",
    "        hat_p = np.array(permutate_items[j]).reshape([1, -1])\n",
    "        p = np.concatenate([p, hat_p], axis=0)\n",
    "        \n",
    "    permutate_items = np.delete(permutate_items, j, axis=0)\n",
    "    d = distance.cdist(p, permutate_items, metric='hamming').mean(axis=0)\n",
    "#     print(d)\n",
    "    if max_hamming == True :\n",
    "        j = np.argmax(d)\n",
    "    else : \n",
    "        j = np.argmin(d)\n",
    "# np.save(f'permutation_{N}_sets.npy', p)"
   ]
  },
  {
   "cell_type": "code",
   "execution_count": 19,
   "id": "ae28df3d",
   "metadata": {},
   "outputs": [
    {
     "data": {
      "text/plain": [
       "array([[2, 4, 8, 6, 7, 3, 9, 1, 5],\n",
       "       [1, 4, 8, 6, 7, 3, 9, 2, 5],\n",
       "       [1, 2, 8, 6, 7, 3, 9, 4, 5],\n",
       "       [2, 1, 8, 6, 7, 3, 9, 4, 5],\n",
       "       [4, 1, 8, 6, 7, 3, 9, 2, 5],\n",
       "       [4, 2, 8, 6, 7, 3, 9, 1, 5],\n",
       "       [1, 2, 4, 6, 7, 3, 9, 8, 5],\n",
       "       [2, 1, 4, 6, 7, 3, 9, 8, 5],\n",
       "       [4, 2, 1, 6, 7, 3, 9, 8, 5],\n",
       "       [2, 4, 1, 6, 7, 3, 9, 8, 5],\n",
       "       [1, 4, 2, 6, 7, 3, 9, 8, 5],\n",
       "       [4, 1, 2, 6, 7, 3, 9, 8, 5],\n",
       "       [4, 8, 2, 6, 7, 3, 9, 1, 5],\n",
       "       [1, 8, 2, 6, 7, 3, 9, 4, 5],\n",
       "       [8, 1, 2, 6, 7, 3, 9, 4, 5],\n",
       "       [8, 4, 2, 6, 7, 3, 9, 1, 5],\n",
       "       [2, 8, 1, 6, 7, 3, 9, 4, 5],\n",
       "       [2, 8, 4, 6, 7, 3, 9, 1, 5],\n",
       "       [1, 8, 4, 6, 7, 3, 9, 2, 5],\n",
       "       [4, 8, 1, 6, 7, 3, 9, 2, 5],\n",
       "       [8, 1, 4, 6, 7, 3, 9, 2, 5],\n",
       "       [8, 2, 4, 6, 7, 3, 9, 1, 5],\n",
       "       [8, 2, 1, 6, 7, 3, 9, 4, 5],\n",
       "       [8, 4, 1, 6, 7, 3, 9, 2, 5],\n",
       "       [1, 2, 8, 4, 7, 3, 9, 6, 5],\n",
       "       [1, 4, 8, 2, 7, 3, 9, 6, 5],\n",
       "       [1, 4, 2, 8, 7, 3, 9, 6, 5],\n",
       "       [1, 8, 2, 4, 7, 3, 9, 6, 5],\n",
       "       [1, 8, 4, 2, 7, 3, 9, 6, 5],\n",
       "       [1, 2, 4, 8, 7, 3, 9, 6, 5]])"
      ]
     },
     "metadata": {},
     "output_type": "display_data"
    }
   ],
   "source": [
    "display(p)"
   ]
  },
  {
   "cell_type": "code",
   "execution_count": 20,
   "id": "8b0998cc",
   "metadata": {},
   "outputs": [
    {
     "data": {
      "text/plain": [
       "(30, 9)"
      ]
     },
     "execution_count": 20,
     "metadata": {},
     "output_type": "execute_result"
    }
   ],
   "source": [
    "# 중복이 없음을 확인\n",
    "np.unique(p,axis=0).shape"
   ]
  },
  {
   "cell_type": "code",
   "execution_count": null,
   "id": "2c419f73",
   "metadata": {},
   "outputs": [],
   "source": []
  }
 ],
 "metadata": {
  "kernelspec": {
   "display_name": "Python 3",
   "language": "python",
   "name": "python3"
  },
  "language_info": {
   "codemirror_mode": {
    "name": "ipython",
    "version": 3
   },
   "file_extension": ".py",
   "mimetype": "text/x-python",
   "name": "python",
   "nbconvert_exporter": "python",
   "pygments_lexer": "ipython3",
   "version": "3.6.13"
  }
 },
 "nbformat": 4,
 "nbformat_minor": 5
}
