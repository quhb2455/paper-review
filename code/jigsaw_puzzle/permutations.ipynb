{
 "cells": [
  {
   "cell_type": "code",
   "execution_count": 78,
   "id": "bc6a4221",
   "metadata": {},
   "outputs": [],
   "source": [
    "import itertools\n",
    "import numpy as np\n",
    "from scipy.spatial import distance\n",
    "from scipy.spatial.distance import cdist\n",
    "import math"
   ]
  },
  {
   "cell_type": "markdown",
   "id": "b7eab65a",
   "metadata": {},
   "source": [
    "### Generate Permutation set"
   ]
  },
  {
   "cell_type": "code",
   "execution_count": 52,
   "id": "bea69c78",
   "metadata": {},
   "outputs": [
    {
     "name": "stdout",
     "output_type": "stream",
     "text": [
      "[1, 2, 3, 4, 5, 6, 7, 8, 9]\n",
      "362880\n"
     ]
    }
   ],
   "source": [
    "y = [i for i in range(1, 10)]\n",
    "print(y)\n",
    "\n",
    "y_p = list(iter(itertools.permutations(y,9)))\n",
    "print(len(y_p))"
   ]
  },
  {
   "cell_type": "markdown",
   "id": "bcab3269",
   "metadata": {},
   "source": [
    "### Calculate Hamming Distance"
   ]
  },
  {
   "cell_type": "code",
   "execution_count": 182,
   "id": "8bd77023",
   "metadata": {},
   "outputs": [
    {
     "ename": "ValueError",
     "evalue": "The 1d arrays must have equal lengths.",
     "output_type": "error",
     "traceback": [
      "\u001b[1;31m---------------------------------------------------------------------------\u001b[0m",
      "\u001b[1;31mValueError\u001b[0m                                Traceback (most recent call last)",
      "\u001b[1;32m<ipython-input-182-bde18d26b1c0>\u001b[0m in \u001b[0;36m<module>\u001b[1;34m\u001b[0m\n\u001b[1;32m----> 1\u001b[1;33m \u001b[0mhammin_distance\u001b[0m \u001b[1;33m=\u001b[0m \u001b[0mdistance\u001b[0m\u001b[1;33m.\u001b[0m\u001b[0mhamming\u001b[0m\u001b[1;33m(\u001b[0m \u001b[1;33m[\u001b[0m\u001b[1;36m1\u001b[0m\u001b[1;33m,\u001b[0m\u001b[1;36m2\u001b[0m\u001b[1;33m,\u001b[0m\u001b[1;36m3\u001b[0m\u001b[1;33m,\u001b[0m\u001b[1;36m4\u001b[0m\u001b[1;33m]\u001b[0m\u001b[1;33m,\u001b[0m\u001b[1;33m[\u001b[0m\u001b[1;36m1\u001b[0m\u001b[1;33m,\u001b[0m\u001b[1;36m2\u001b[0m\u001b[1;33m]\u001b[0m\u001b[1;33m)\u001b[0m\u001b[1;33m\u001b[0m\u001b[1;33m\u001b[0m\u001b[0m\n\u001b[0m\u001b[0;32m      2\u001b[0m \u001b[0mprint\u001b[0m\u001b[1;33m(\u001b[0m\u001b[0mhammin_distance\u001b[0m\u001b[1;33m)\u001b[0m\u001b[1;33m\u001b[0m\u001b[1;33m\u001b[0m\u001b[0m\n",
      "\u001b[1;32mc:\\users\\quhb2\\anaconda3\\envs\\torch-1.9\\lib\\site-packages\\scipy\\spatial\\distance.py\u001b[0m in \u001b[0;36mhamming\u001b[1;34m(u, v, w)\u001b[0m\n\u001b[0;32m    809\u001b[0m     \u001b[0mv\u001b[0m \u001b[1;33m=\u001b[0m \u001b[0m_validate_vector\u001b[0m\u001b[1;33m(\u001b[0m\u001b[0mv\u001b[0m\u001b[1;33m)\u001b[0m\u001b[1;33m\u001b[0m\u001b[1;33m\u001b[0m\u001b[0m\n\u001b[0;32m    810\u001b[0m     \u001b[1;32mif\u001b[0m \u001b[0mu\u001b[0m\u001b[1;33m.\u001b[0m\u001b[0mshape\u001b[0m \u001b[1;33m!=\u001b[0m \u001b[0mv\u001b[0m\u001b[1;33m.\u001b[0m\u001b[0mshape\u001b[0m\u001b[1;33m:\u001b[0m\u001b[1;33m\u001b[0m\u001b[1;33m\u001b[0m\u001b[0m\n\u001b[1;32m--> 811\u001b[1;33m         \u001b[1;32mraise\u001b[0m \u001b[0mValueError\u001b[0m\u001b[1;33m(\u001b[0m\u001b[1;34m'The 1d arrays must have equal lengths.'\u001b[0m\u001b[1;33m)\u001b[0m\u001b[1;33m\u001b[0m\u001b[1;33m\u001b[0m\u001b[0m\n\u001b[0m\u001b[0;32m    812\u001b[0m     \u001b[0mu_ne_v\u001b[0m \u001b[1;33m=\u001b[0m \u001b[0mu\u001b[0m \u001b[1;33m!=\u001b[0m \u001b[0mv\u001b[0m\u001b[1;33m\u001b[0m\u001b[1;33m\u001b[0m\u001b[0m\n\u001b[0;32m    813\u001b[0m     \u001b[1;32mif\u001b[0m \u001b[0mw\u001b[0m \u001b[1;32mis\u001b[0m \u001b[1;32mnot\u001b[0m \u001b[1;32mNone\u001b[0m\u001b[1;33m:\u001b[0m\u001b[1;33m\u001b[0m\u001b[1;33m\u001b[0m\u001b[0m\n",
      "\u001b[1;31mValueError\u001b[0m: The 1d arrays must have equal lengths."
     ]
    }
   ],
   "source": [
    "hammin_distance = distance.hamming( y_p[1234], y_p[0])\n",
    "print(hammin_distance)"
   ]
  },
  {
   "cell_type": "markdown",
   "id": "6ee30fb4",
   "metadata": {},
   "source": [
    "### uniform sampling"
   ]
  },
  {
   "cell_type": "code",
   "execution_count": 67,
   "id": "4f7a6f21",
   "metadata": {},
   "outputs": [
    {
     "data": {
      "text/plain": [
       "array([116173, 354492, 287907,  76632,  85156, 345848, 275761, 171318,\n",
       "       107087, 319070])"
      ]
     },
     "execution_count": 67,
     "metadata": {},
     "output_type": "execute_result"
    }
   ],
   "source": [
    "num_perm = 10\n",
    "perm_list = np.random.randint(1, math.factorial(9),size=num_perm)\n",
    "perm_list"
   ]
  },
  {
   "cell_type": "markdown",
   "id": "36ebfe2b",
   "metadata": {},
   "source": [
    "### Generate min or max hammin distance permute"
   ]
  },
  {
   "cell_type": "code",
   "execution_count": 176,
   "id": "0e9278dc",
   "metadata": {},
   "outputs": [],
   "source": [
    "from tqdm import tqdm"
   ]
  },
  {
   "cell_type": "code",
   "execution_count": 194,
   "id": "275f9b7a",
   "metadata": {},
   "outputs": [
    {
     "name": "stderr",
     "output_type": "stream",
     "text": [
      "100%|██████████████████████████████████████████████████████████████████████████████████| 50/50 [00:11<00:00,  4.43it/s]\n"
     ]
    }
   ],
   "source": [
    "P_hat = np.array(list(itertools.permutations(list(range(1,10)), 9)))\n",
    "np.random.shuffle(P_hat)\n",
    "n = 50\n",
    "\n",
    "for i in tqdm(range(0, n)):\n",
    "    \n",
    "    # 첫 번째에는 아무것도 없는 빈 리스트에 값을 넣음\n",
    "    if i==0:\n",
    "        # 랜덤한 값 1개를 뽑음\n",
    "        j = np.random.randint(n)\n",
    "        # 리스트에 추가 및 shape 변경. (9, ) => (1, 9)\n",
    "        P = np.array(P_hat[j]).reshape([1,-1])\n",
    "    else:\n",
    "        # 두 번째부터는 원래 있던 리스트에 concat 해줌 . shape (1, 9) => (2, 9) => (3, 9) => ... =>(n-1, 9)\n",
    "        P = np.concatenate([P,P_hat[j].reshape([1,-1])],axis=0)\n",
    "\n",
    "    # 뽑은 값은 리스트에서 삭제\n",
    "    P_hat = np.delete(P_hat,j,axis=0)\n",
    "    \n",
    "    # P 리스트에 있는 모든 값과 P_hat에 있는 모든 값을 비교하여 distance를 얻음\n",
    "    # P 리스트의 shape이 (4, 9) 라고하면 (4, P_hat.shape[0] - 4) 가됨.\n",
    "    # 이걸 mean 하여 1개의 list로 변경 => D의 shape (P_hat.shape[0] - 4, )\n",
    "    D = cdist(P,P_hat, metric='hamming').mean(axis=0).flatten()\n",
    "    \n",
    "    # 만약 Max distance를 구한다면\n",
    "    if False :\n",
    "        j = D.argmax()\n",
    "\n",
    "    # 만약 Min distance를 구한다면\n",
    "    else :\n",
    "#         j = D.argmin()\n",
    "        m = int(D.shape[0]/2)\n",
    "        # 오름차순 정렬\n",
    "        S = D.argsort()\n",
    "        j = S[np.random.randint(m-10,m+10)]\n",
    "        "
   ]
  },
  {
   "cell_type": "code",
   "execution_count": 195,
   "id": "588a851c",
   "metadata": {},
   "outputs": [
    {
     "name": "stdout",
     "output_type": "stream",
     "text": [
      "[7 2 3 1 5 8 9 6 4]\n",
      "[8 1 5 9 7 2 4 6 3]\n",
      "[2 6 5 1 4 9 3 8 7]\n",
      "[2 8 7 9 1 4 3 5 6]\n",
      "[3 9 1 6 2 8 4 5 7]\n",
      "[3 5 2 1 6 4 9 7 8]\n",
      "[1 3 4 9 6 5 2 8 7]\n",
      "[1 7 9 8 6 3 4 5 2]\n",
      "[7 1 4 6 3 8 9 2 5]\n",
      "[6 2 8 5 1 4 3 9 7]\n",
      "[1 4 9 6 3 5 7 8 2]\n",
      "[5 4 7 6 8 1 3 9 2]\n",
      "[4 7 6 5 1 2 3 9 8]\n",
      "[5 4 8 1 6 3 2 7 9]\n",
      "[5 7 3 1 2 9 8 6 4]\n",
      "[1 5 2 7 8 3 4 6 9]\n",
      "[3 2 1 6 9 5 8 7 4]\n",
      "[6 2 7 3 8 9 4 5 1]\n",
      "[4 3 5 7 8 9 1 6 2]\n",
      "[4 1 2 9 3 5 6 7 8]\n",
      "[5 1 7 9 2 8 6 4 3]\n",
      "[2 6 4 5 3 8 1 7 9]\n",
      "[2 1 7 5 4 6 8 9 3]\n",
      "[1 3 7 2 6 9 5 4 8]\n",
      "[4 3 9 6 2 7 8 5 1]\n",
      "[8 1 6 2 5 4 3 7 9]\n",
      "[4 1 5 3 7 2 8 9 6]\n",
      "[5 2 1 9 7 6 4 3 8]\n",
      "[9 1 2 7 6 4 5 3 8]\n",
      "[1 3 9 4 5 2 7 6 8]\n",
      "[4 2 9 8 7 3 6 5 1]\n",
      "[4 3 5 2 1 7 6 8 9]\n",
      "[5 6 9 4 2 1 8 7 3]\n",
      "[4 8 5 7 1 6 2 9 3]\n",
      "[4 3 1 7 9 2 5 8 6]\n",
      "[5 8 7 4 6 9 1 2 3]\n",
      "[5 9 4 2 6 8 3 1 7]\n",
      "[4 5 1 3 8 7 6 9 2]\n",
      "[6 3 2 7 5 4 8 1 9]\n",
      "[2 1 7 3 4 5 9 8 6]\n",
      "[7 3 8 1 4 5 2 6 9]\n",
      "[4 8 2 9 7 6 3 1 5]\n",
      "[5 7 9 2 1 6 8 3 4]\n",
      "[7 8 4 3 6 5 2 9 1]\n",
      "[8 7 4 2 6 3 5 9 1]\n",
      "[8 5 1 9 2 3 4 7 6]\n",
      "[2 6 8 1 7 5 4 3 9]\n",
      "[7 8 5 9 2 3 6 4 1]\n",
      "[6 7 1 2 9 8 4 5 3]\n",
      "[6 2 8 4 1 5 7 9 3]\n"
     ]
    }
   ],
   "source": [
    "for i in P :\n",
    "    print(i)"
   ]
  },
  {
   "cell_type": "code",
   "execution_count": null,
   "id": "edc1a35e",
   "metadata": {},
   "outputs": [],
   "source": []
  }
 ],
 "metadata": {
  "kernelspec": {
   "display_name": "Python 3",
   "language": "python",
   "name": "python3"
  },
  "language_info": {
   "codemirror_mode": {
    "name": "ipython",
    "version": 3
   },
   "file_extension": ".py",
   "mimetype": "text/x-python",
   "name": "python",
   "nbconvert_exporter": "python",
   "pygments_lexer": "ipython3",
   "version": "3.6.13"
  }
 },
 "nbformat": 4,
 "nbformat_minor": 5
}
